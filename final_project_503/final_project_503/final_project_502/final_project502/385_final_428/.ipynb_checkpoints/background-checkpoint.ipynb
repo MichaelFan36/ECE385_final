{
 "cells": [
  {
   "cell_type": "code",
   "execution_count": 2,
   "metadata": {},
   "outputs": [],
   "source": [
    "from PIL import Image\n",
    "BLACK_GRAD = (34, 34, 34)\n",
    "BLACK = (0, 0, 0)\n",
    "WHITE = (255, 255, 255)\n",
    "BRICK_BROWN = (189, 68, 0)\n",
    "im = Image.open('test.png', 'r')\n",
    "width, height = im.size\n",
    "im2 = Image.open('test.png', 'r')\n",
    "im2 = im2.convert('RGB')\n",
    "pix_val = im.load()\n",
    "new_pix_val = im2.load()\n",
    "pix_dict = {}\n",
    "for y in range(height):\n",
    "    for x in range(width):\n",
    "        if y > 340 and y < 370:\n",
    "            new_pix_val[x, y] = (0, 0, 0)\n",
    "        elif y < 65:\n",
    "            new_pix_val[x, y] = (0, 0, 0)\n",
    "        if (new_pix_val[x, y][0], new_pix_val[x, y][1], new_pix_val[x, y][2]) == BLACK:\n",
    "            continue\n",
    "        elif (new_pix_val[x, y][0], new_pix_val[x, y][1], new_pix_val[x, y][2]) == WHITE:\n",
    "            continue\n",
    "        elif (new_pix_val[x, y][0], new_pix_val[x, y][1], new_pix_val[x, y][2]) == BRICK_BROWN:\n",
    "            continue\n",
    "        else:           \n",
    "            new_pix_val[x, y] = (0, 0, 0)\n",
    "im2.save('out.png')"
   ]
  },
  {
   "cell_type": "code",
   "execution_count": 8,
   "metadata": {
    "scrolled": true
   },
   "outputs": [
    {
     "ename": "SyntaxError",
     "evalue": "invalid syntax (<ipython-input-8-8c842ca42c93>, line 34)",
     "output_type": "error",
     "traceback": [
      "\u001b[1;36m  File \u001b[1;32m\"<ipython-input-8-8c842ca42c93>\"\u001b[1;36m, line \u001b[1;32m34\u001b[0m\n\u001b[1;33m    if (y >= 22 && y <= 38):\u001b[0m\n\u001b[1;37m                 ^\u001b[0m\n\u001b[1;31mSyntaxError\u001b[0m\u001b[1;31m:\u001b[0m invalid syntax\n"
     ]
    }
   ],
   "source": [
    "im2 = Image.open('enemy.png', 'r')\n",
    "im2.convert('RGB')\n",
    "width, height = im2.size\n",
    "color = []\n",
    "pix_val = im2.load()\n",
    "new_pix_dict = {}\n",
    "im3 = Image.new('RGB', (80, 60), 'black')\n",
    "new_pix_val = im3.load()\n",
    "\n",
    "\n",
    "\n",
    "for y in range(60):\n",
    "    for x in range(80):\n",
    "        new_pix_val[x, y] = (pix_val[int(x/80*width), int(y/60*height)][0] & 240, pix_val[int(x/80*width), int(y/60*height)][1] & 240, pix_val[int(x/80*width), int(y/60*height)][2] & 240)\n",
    "im3.save('heart_sm.png')\n",
    "\n",
    "\n",
    "for y in range(60):\n",
    "    for x in range(80):\n",
    "        new_pix_dict[x,y] = (format((int(new_pix_val[x, y][0] & 240) >> 4), 'x') + format((int(new_pix_val[x, y][1] & 240) >> 4), 'x') + format((int(new_pix_val[x, y][2] & 240) >> 4), 'x'))\n",
    "    \n",
    "        if new_pix_dict[x, y] not in color:\n",
    "            color.append(new_pix_dict[x, y])\n",
    "        if new_pix_dict[x, y] != '000':\n",
    "            print(x, y, new_pix_dict[x,y])\n",
    "print(color)\n",
    "\n",
    "file4 = open('enemy.txt', 'w')\n",
    "for y in range(60):\n",
    "    for x in range(80):\n",
    "#         if new_pix_dict[x, y] == 'd43':\n",
    "#             file4.write('f00\\n')\n",
    "#         else:\n",
    "        if y >= 22 and y <= 38:\n",
    "            file4.write(new_pix_dict[x, y]+'\\n')\n",
    "        else:\n",
    "            file4.write('000\\n')\n",
    "file4.close()\n",
    "print(\"Done!\")"
   ]
  },
  {
   "cell_type": "code",
   "execution_count": 4,
   "metadata": {},
   "outputs": [
    {
     "name": "stdout",
     "output_type": "stream",
     "text": [
      "Done!\n"
     ]
    }
   ],
   "source": [
    "pix_dict = {}\n",
    "im3 = Image.open('out2.png', 'r')\n",
    "im3.convert('RGB')\n",
    "width, height = im2.size\n",
    "pix_val = im2.load()\n",
    "for y in range(height):\n",
    "    for x in range(width):\n",
    "        pix_dict[x, y] = (format((int(pix_val[x, y][0] & 240) >> 4), 'x') + format((int(pix_val[x, y][1] & 240) >> 4), 'x') + format((int(pix_val[x, y][2] & 240) >> 4), 'x'))\n",
    "        \n",
    "file1 = open('background.sv', 'w')\n",
    "file1.write('module Background (\\n')\n",
    "file1.write('    input  logic clk, \\n')\n",
    "file1.write('    input  logic [9:0] x, \\n')\n",
    "file1.write('    input  logic [9:0] y, \\n')\n",
    "file1.write('    output logic [11:0] out \\n')\n",
    "file1.write(');\\n')\n",
    "file1.write('    assign logic[9:0] x_in = x;\\n')\n",
    "file1.write('    assign logic[9:0] y_in = y;\\n')\n",
    "file1.write('    assign logic[18:0] index = y_in * 640 + x_in;\\n')\n",
    "file1.write('\\n')\n",
    "file1.write('always_ff @ (posedge clk)\\n')\n",
    "file1.write('    case (index)\\n')\n",
    "for y in range(height):\n",
    "    for x in range(width):\n",
    "          \n",
    "        hex_index = format(y * width + x, '05x')\n",
    "        file1.write(\"      20'h\")\n",
    "        file1.write(hex_index)\n",
    "        file1.write(': ')\n",
    "        file1.write(\"out <= 12'h\")\n",
    "        file1.write(pix_dict[x, y])\n",
    "        file1.write(';\\n')\n",
    "        \n",
    "file1.write('    endcase\\n')\n",
    "file1.write('endmodule\\n')\n",
    "print('Done!')"
   ]
  },
  {
   "cell_type": "code",
   "execution_count": 38,
   "metadata": {},
   "outputs": [
    {
     "ename": "IndexError",
     "evalue": "image index out of range",
     "output_type": "error",
     "traceback": [
      "\u001b[1;31m---------------------------------------------------------------------------\u001b[0m",
      "\u001b[1;31mIndexError\u001b[0m                                Traceback (most recent call last)",
      "\u001b[1;32m<ipython-input-38-dac676c3b988>\u001b[0m in \u001b[0;36m<module>\u001b[1;34m\u001b[0m\n\u001b[0;32m      6\u001b[0m \u001b[1;32mfor\u001b[0m \u001b[0my\u001b[0m \u001b[1;32min\u001b[0m \u001b[0mrange\u001b[0m\u001b[1;33m(\u001b[0m\u001b[1;36m240\u001b[0m\u001b[1;33m)\u001b[0m\u001b[1;33m:\u001b[0m\u001b[1;33m\u001b[0m\u001b[1;33m\u001b[0m\u001b[0m\n\u001b[0;32m      7\u001b[0m     \u001b[1;32mfor\u001b[0m \u001b[0mx\u001b[0m \u001b[1;32min\u001b[0m \u001b[0mrange\u001b[0m\u001b[1;33m(\u001b[0m\u001b[1;36m320\u001b[0m\u001b[1;33m)\u001b[0m\u001b[1;33m:\u001b[0m\u001b[1;33m\u001b[0m\u001b[1;33m\u001b[0m\u001b[0m\n\u001b[1;32m----> 8\u001b[1;33m         \u001b[0mpix_dict\u001b[0m\u001b[1;33m[\u001b[0m\u001b[0mx\u001b[0m\u001b[1;33m,\u001b[0m \u001b[0my\u001b[0m\u001b[1;33m]\u001b[0m \u001b[1;33m=\u001b[0m \u001b[1;33m(\u001b[0m\u001b[0mformat\u001b[0m\u001b[1;33m(\u001b[0m\u001b[1;33m(\u001b[0m\u001b[0mint\u001b[0m\u001b[1;33m(\u001b[0m\u001b[0mpix_val\u001b[0m\u001b[1;33m[\u001b[0m\u001b[0mx\u001b[0m\u001b[1;33m,\u001b[0m \u001b[0my\u001b[0m\u001b[1;33m]\u001b[0m\u001b[1;33m[\u001b[0m\u001b[1;36m0\u001b[0m\u001b[1;33m]\u001b[0m \u001b[1;33m&\u001b[0m \u001b[1;36m240\u001b[0m\u001b[1;33m)\u001b[0m \u001b[1;33m>>\u001b[0m \u001b[1;36m4\u001b[0m\u001b[1;33m)\u001b[0m\u001b[1;33m,\u001b[0m \u001b[1;34m'x'\u001b[0m\u001b[1;33m)\u001b[0m \u001b[1;33m+\u001b[0m \u001b[0mformat\u001b[0m\u001b[1;33m(\u001b[0m\u001b[1;33m(\u001b[0m\u001b[0mint\u001b[0m\u001b[1;33m(\u001b[0m\u001b[0mpix_val\u001b[0m\u001b[1;33m[\u001b[0m\u001b[0mx\u001b[0m\u001b[1;33m,\u001b[0m \u001b[0my\u001b[0m\u001b[1;33m]\u001b[0m\u001b[1;33m[\u001b[0m\u001b[1;36m1\u001b[0m\u001b[1;33m]\u001b[0m \u001b[1;33m&\u001b[0m \u001b[1;36m240\u001b[0m\u001b[1;33m)\u001b[0m \u001b[1;33m>>\u001b[0m \u001b[1;36m4\u001b[0m\u001b[1;33m)\u001b[0m\u001b[1;33m,\u001b[0m \u001b[1;34m'x'\u001b[0m\u001b[1;33m)\u001b[0m \u001b[1;33m+\u001b[0m \u001b[0mformat\u001b[0m\u001b[1;33m(\u001b[0m\u001b[1;33m(\u001b[0m\u001b[0mint\u001b[0m\u001b[1;33m(\u001b[0m\u001b[0mpix_val\u001b[0m\u001b[1;33m[\u001b[0m\u001b[0mx\u001b[0m\u001b[1;33m,\u001b[0m \u001b[0my\u001b[0m\u001b[1;33m]\u001b[0m\u001b[1;33m[\u001b[0m\u001b[1;36m2\u001b[0m\u001b[1;33m]\u001b[0m \u001b[1;33m&\u001b[0m \u001b[1;36m240\u001b[0m\u001b[1;33m)\u001b[0m \u001b[1;33m>>\u001b[0m \u001b[1;36m4\u001b[0m\u001b[1;33m)\u001b[0m\u001b[1;33m,\u001b[0m \u001b[1;34m'x'\u001b[0m\u001b[1;33m)\u001b[0m\u001b[1;33m)\u001b[0m\u001b[1;33m\u001b[0m\u001b[1;33m\u001b[0m\u001b[0m\n\u001b[0m\u001b[0;32m      9\u001b[0m \u001b[1;33m\u001b[0m\u001b[0m\n\u001b[0;32m     10\u001b[0m \u001b[0mfile4\u001b[0m \u001b[1;33m=\u001b[0m \u001b[0mopen\u001b[0m\u001b[1;33m(\u001b[0m\u001b[1;34m'background.txt'\u001b[0m\u001b[1;33m,\u001b[0m \u001b[1;34m'w'\u001b[0m\u001b[1;33m)\u001b[0m\u001b[1;33m\u001b[0m\u001b[1;33m\u001b[0m\u001b[0m\n",
      "\u001b[1;31mIndexError\u001b[0m: image index out of range"
     ]
    }
   ],
   "source": [
    "pix_dict = {}\n",
    "im3 = Image.open('out2.png', 'r')\n",
    "im3.convert('RGB')\n",
    "width, height = im2.size\n",
    "pix_val = im2.load()\n",
    "for y in range(240):\n",
    "    for x in range(320):\n",
    "        pix_dict[x, y] = (format((int(pix_val[x, y][0] & 240) >> 4), 'x') + format((int(pix_val[x, y][1] & 240) >> 4), 'x') + format((int(pix_val[x, y][2] & 240) >> 4), 'x'))\n",
    "        \n",
    "file4 = open('background.txt', 'w')\n",
    "for y in range(240):\n",
    "    for x in range(320):\n",
    "        file4.write(pix_dict[x, y]+'\\n')\n",
    "file4.close()\n",
    "print(\"Done!\")"
   ]
  },
  {
   "cell_type": "code",
   "execution_count": 52,
   "metadata": {},
   "outputs": [
    {
     "name": "stdout",
     "output_type": "stream",
     "text": [
      "(255, 255, 255, 255)\n",
      "(255, 255, 255, 255)\n",
      "(255, 255, 255, 255)\n",
      "(255, 255, 255, 255)\n",
      "(255, 255, 255, 255)\n",
      "(255, 255, 255, 255)\n",
      "(255, 255, 255, 255)\n",
      "(255, 255, 255, 255)\n",
      "(255, 255, 255, 255)\n",
      "(255, 255, 255, 255)\n",
      "(255, 255, 255, 255)\n",
      "(255, 255, 255, 255)\n",
      "(255, 255, 255, 255)\n",
      "(255, 255, 255, 255)\n",
      "(255, 255, 255, 255)\n",
      "(255, 255, 255, 255)\n",
      "(255, 255, 255, 255)\n",
      "(255, 255, 255, 255)\n",
      "(255, 255, 255, 255)\n",
      "(255, 255, 255, 255)\n",
      "(255, 255, 255, 255)\n",
      "(255, 255, 255, 255)\n",
      "(255, 255, 255, 255)\n",
      "(255, 255, 255, 255)\n",
      "(255, 255, 255, 255)\n",
      "(255, 255, 255, 255)\n",
      "(255, 255, 255, 255)\n",
      "(255, 255, 255, 255)\n",
      "(255, 255, 255, 255)\n",
      "(255, 255, 255, 255)\n",
      "(255, 255, 255, 255)\n",
      "(255, 255, 255, 255)\n",
      "(255, 255, 255, 255)\n",
      "(255, 255, 255, 255)\n",
      "(255, 255, 255, 255)\n",
      "(255, 255, 255, 255)\n"
     ]
    },
    {
     "ename": "IndexError",
     "evalue": "image index out of range",
     "output_type": "error",
     "traceback": [
      "\u001b[1;31m---------------------------------------------------------------------------\u001b[0m",
      "\u001b[1;31mIndexError\u001b[0m                                Traceback (most recent call last)",
      "\u001b[1;32m<ipython-input-52-66205e6047c3>\u001b[0m in \u001b[0;36m<module>\u001b[1;34m\u001b[0m\n\u001b[0;32m     11\u001b[0m             \u001b[0mnew_pix_val\u001b[0m\u001b[1;33m[\u001b[0m\u001b[0mx\u001b[0m\u001b[1;33m/\u001b[0m\u001b[0mwidth\u001b[0m\u001b[1;33m*\u001b[0m\u001b[1;36m60\u001b[0m\u001b[1;33m,\u001b[0m \u001b[0my\u001b[0m\u001b[1;33m/\u001b[0m\u001b[0mheight\u001b[0m\u001b[1;33m*\u001b[0m\u001b[1;36m160\u001b[0m\u001b[1;33m]\u001b[0m \u001b[1;33m=\u001b[0m \u001b[1;33m(\u001b[0m\u001b[1;36m255\u001b[0m\u001b[1;33m,\u001b[0m \u001b[1;36m255\u001b[0m\u001b[1;33m,\u001b[0m \u001b[1;36m255\u001b[0m\u001b[1;33m,\u001b[0m \u001b[1;36m255\u001b[0m\u001b[1;33m)\u001b[0m\u001b[1;33m\u001b[0m\u001b[1;33m\u001b[0m\u001b[0m\n\u001b[0;32m     12\u001b[0m         \u001b[1;32melse\u001b[0m\u001b[1;33m:\u001b[0m\u001b[1;33m\u001b[0m\u001b[1;33m\u001b[0m\u001b[0m\n\u001b[1;32m---> 13\u001b[1;33m             \u001b[0mnew_pix_val\u001b[0m\u001b[1;33m[\u001b[0m\u001b[0mx\u001b[0m\u001b[1;33m/\u001b[0m\u001b[0mwidth\u001b[0m\u001b[1;33m*\u001b[0m\u001b[1;36m60\u001b[0m\u001b[1;33m,\u001b[0m \u001b[0my\u001b[0m\u001b[1;33m/\u001b[0m\u001b[0mheight\u001b[0m\u001b[1;33m*\u001b[0m\u001b[1;36m160\u001b[0m\u001b[1;33m]\u001b[0m \u001b[1;33m=\u001b[0m \u001b[1;33m(\u001b[0m\u001b[1;36m0\u001b[0m\u001b[1;33m,\u001b[0m \u001b[1;36m0\u001b[0m\u001b[1;33m,\u001b[0m \u001b[1;36m0\u001b[0m\u001b[1;33m,\u001b[0m \u001b[1;36m255\u001b[0m\u001b[1;33m)\u001b[0m\u001b[1;33m\u001b[0m\u001b[1;33m\u001b[0m\u001b[0m\n\u001b[0m\u001b[0;32m     14\u001b[0m         \u001b[0mprint\u001b[0m\u001b[1;33m(\u001b[0m\u001b[0mpix_val\u001b[0m\u001b[1;33m[\u001b[0m\u001b[0mx\u001b[0m\u001b[1;33m,\u001b[0m \u001b[0my\u001b[0m\u001b[1;33m]\u001b[0m\u001b[1;33m)\u001b[0m\u001b[1;33m\u001b[0m\u001b[1;33m\u001b[0m\u001b[0m\n\u001b[0;32m     15\u001b[0m \u001b[0mim6\u001b[0m\u001b[1;33m.\u001b[0m\u001b[0msave\u001b[0m\u001b[1;33m(\u001b[0m\u001b[1;34m'letter_processed.PNG'\u001b[0m\u001b[1;33m)\u001b[0m\u001b[1;33m\u001b[0m\u001b[1;33m\u001b[0m\u001b[0m\n",
      "\u001b[1;31mIndexError\u001b[0m: image index out of range"
     ]
    }
   ],
   "source": [
    "im5 = Image.open('letter_raw.PNG', 'r')\n",
    "im5.convert('RGB')\n",
    "pix_dict = {}\n",
    "width, height = im5.size\n",
    "pix_val = im5.load()\n",
    "im6 = Image.new('RGB', (30, 300), 'black')\n",
    "new_pix_val = im6.load()\n",
    "for y in range(height):\n",
    "    for x in range(width):\n",
    "        if pix_val[x, y][0] == 0:\n",
    "            new_pix_val[x/width*30, y/height*300] = (255, 255, 255, 255)\n",
    "        else:\n",
    "            new_pix_val[x/width*30, y/height*300] = (0, 0, 0, 255)\n",
    "        print(pix_val[x, y])\n",
    "im6.save('letter_processed.PNG')\n",
    "for y in range(300):\n",
    "    for x in range(30):\n",
    "        pix_dict[x, y] = (format((int(pix_val[x, y][0] & 240) >> 4), 'x') + format((int(pix_val[x, y][1] & 240) >> 4), 'x') + format((int(pix_val[x, y][2] & 240) >> 4), 'x'))\n",
    "file5 = open('number.txt', 'w')\n",
    "for y in range(300):\n",
    "    for x in range(30):\n",
    "        file5.write(pix_dict[x, y]+'\\n')\n",
    "file5.close()\n",
    "print(\"Done!\")\n",
    "    "
   ]
  },
  {
   "cell_type": "code",
   "execution_count": null,
   "metadata": {},
   "outputs": [],
   "source": []
  }
 ],
 "metadata": {
  "kernelspec": {
   "display_name": "Python 3",
   "language": "python",
   "name": "python3"
  },
  "language_info": {
   "codemirror_mode": {
    "name": "ipython",
    "version": 3
   },
   "file_extension": ".py",
   "mimetype": "text/x-python",
   "name": "python",
   "nbconvert_exporter": "python",
   "pygments_lexer": "ipython3",
   "version": "3.7.6"
  }
 },
 "nbformat": 4,
 "nbformat_minor": 2
}
